{
 "cells": [
  {
   "cell_type": "code",
   "execution_count": 1,
   "metadata": {},
   "outputs": [],
   "source": [
    "import random\n",
    "import numpy as np\n",
    "import torch\n",
    "import scipy.sparse as sp\n",
    "import os\n",
    "from utils import csr2torch, recall_at_k, ndcg_at_k, normalize_sparse_adjacency_matrix\n",
    "\n",
    "random.seed(2022)\n",
    "np.random.seed(2022)"
   ]
  },
  {
   "cell_type": "code",
   "execution_count": 5,
   "metadata": {},
   "outputs": [],
   "source": [
    "# device = torch.device(\"cuda\" if torch.cuda.is_available() else \"cpu\")\n",
    "device = torch.device(\"cuda\")\n",
    "current_directory = os.getcwd()"
   ]
  },
  {
   "cell_type": "code",
   "execution_count": 10,
   "metadata": {},
   "outputs": [
    {
     "name": "stdout",
     "output_type": "stream",
     "text": [
      "Device: cpu\n",
      "number of users: 29858\n",
      "number of items: 40981\n",
      "number of overall ratings: 810160\n"
     ]
    },
    {
     "ename": "KeyboardInterrupt",
     "evalue": "",
     "output_type": "error",
     "traceback": [
      "\u001b[0;31m---------------------------------------------------------------------------\u001b[0m",
      "\u001b[0;31mKeyboardInterrupt\u001b[0m                         Traceback (most recent call last)",
      "Cell \u001b[0;32mIn[10], line 29\u001b[0m\n\u001b[1;32m     27\u001b[0m R_norm \u001b[38;5;241m=\u001b[39m normalize_sparse_adjacency_matrix(R_tr\u001b[38;5;241m.\u001b[39mto_dense(), alpha)\n\u001b[1;32m     28\u001b[0m R \u001b[38;5;241m=\u001b[39m R_tr\u001b[38;5;241m.\u001b[39mto_dense()\n\u001b[0;32m---> 29\u001b[0m P \u001b[38;5;241m=\u001b[39m \u001b[43mR_norm\u001b[49m\u001b[38;5;241;43m.\u001b[39;49m\u001b[43mT\u001b[49m\u001b[43m \u001b[49m\u001b[38;5;241;43m@\u001b[39;49m\u001b[43m \u001b[49m\u001b[43mR_norm\u001b[49m\n\u001b[1;32m     30\u001b[0m P\u001b[38;5;241m.\u001b[39mdata \u001b[38;5;241m*\u001b[39m\u001b[38;5;241m*\u001b[39m\u001b[38;5;241m=\u001b[39m power\n\u001b[1;32m     31\u001b[0m P \u001b[38;5;241m=\u001b[39m P\u001b[38;5;241m.\u001b[39mto(device\u001b[38;5;241m=\u001b[39mdevice)\u001b[38;5;241m.\u001b[39mfloat()\n",
      "\u001b[0;31mKeyboardInterrupt\u001b[0m: "
     ]
    }
   ],
   "source": [
    "verbose = 1  # 0: no print, 1: print results\n",
    "dataset = \"gowalla\"  # Either gowalla, yelp, amazon, or ml-1m\n",
    "alpha = 0.6\n",
    "power = 0.7\n",
    "filter = 1 # 1: linear 2: 2nd-order 3: 3rd-order ideal LPF\n",
    "\n",
    "\n",
    "if verbose:\n",
    "    print(f\"Device: {device}\")\n",
    "dataset = dataset\n",
    "path_tr = f\"{current_directory}/dataset/{dataset}_train.npz\"\n",
    "path_ts = f\"{current_directory}/dataset/{dataset}_test.npz\"\n",
    "R_tr = csr2torch(sp.load_npz(path_tr)).to(device)\n",
    "R_ts = csr2torch(sp.load_npz(path_ts)).to(device)\n",
    "\n",
    "n_users = R_tr.shape[0]\n",
    "n_items = R_tr.shape[1]\n",
    "if verbose:\n",
    "    print(f\"number of users: {n_users}\")\n",
    "    print(f\"number of items: {n_items}\")\n",
    "\n",
    "n_inters = torch.nonzero(R_tr._values()).cpu().size(0) + torch.nonzero(\n",
    "    R_ts[0]._values()\n",
    ").cpu().size(0)\n",
    "\n",
    "if verbose:\n",
    "    print(f\"number of overall ratings: {n_inters}\")\n",
    "\n",
    "R_norm = normalize_sparse_adjacency_matrix(R_tr.to_dense(), alpha)\n",
    "R = R_tr.to_dense()\n",
    "P = R_norm.T @ R_norm\n",
    "P.data **= power\n",
    "P = P.to(device=device).float()\n",
    "R = R.to(device=device).float()\n",
    "\n",
    "if filter == 1:\n",
    "    results = R @ (P)\n",
    "elif filter == 2:\n",
    "    results = R @ (2*P-P@P)\n",
    "elif filter == 3:\n",
    "    results = R @ (P + 0.01*(-P@P@P +10*P@P - 29*P))\n",
    "# Now get the results\n",
    "gt_mat = R_ts.to_dense()\n",
    "results = results + (-99999) * R_tr.to_dense()\n",
    "gt_mat = gt_mat.cpu().detach().numpy()\n",
    "results = results.cpu().detach().numpy()\n",
    "\n",
    "print(f\"Recall@20: {recall_at_k(gt_mat, results, k=20):.4f} \\n\")\n",
    "print(f\"NDCG@20: {ndcg_at_k(gt_mat, results, k=20):.4f} \\n\")"
   ]
  },
  {
   "cell_type": "code",
   "execution_count": null,
   "metadata": {},
   "outputs": [],
   "source": []
  }
 ],
 "metadata": {
  "kernelspec": {
   "display_name": "base",
   "language": "python",
   "name": "python3"
  },
  "language_info": {
   "codemirror_mode": {
    "name": "ipython",
    "version": 3
   },
   "file_extension": ".py",
   "mimetype": "text/x-python",
   "name": "python",
   "nbconvert_exporter": "python",
   "pygments_lexer": "ipython3",
   "version": "3.9.18"
  }
 },
 "nbformat": 4,
 "nbformat_minor": 2
}
