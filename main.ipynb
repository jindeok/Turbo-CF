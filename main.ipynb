{
 "cells": [
  {
   "cell_type": "code",
   "execution_count": null,
   "metadata": {},
   "outputs": [],
   "source": [
    "import random\n",
    "import numpy as np\n",
    "import torch\n",
    "import scipy.sparse as sp\n",
    "import os\n",
    "from utils import csr2torch, recall_at_k, ndcg_at_k, normalize_sparse_adjacency_matrix\n",
    "\n",
    "random.seed(2022)\n",
    "np.random.seed(2022)"
   ]
  },
  {
   "cell_type": "code",
   "execution_count": null,
   "metadata": {},
   "outputs": [],
   "source": [
    "device = torch.device(\"cuda\" if torch.cuda.is_available() else \"cpu\")\n",
    "current_directory = os.getcwd()"
   ]
  },
  {
   "cell_type": "code",
   "execution_count": null,
   "metadata": {},
   "outputs": [],
   "source": [
    "verbose = 1  # 0: no print, 1: print results\n",
    "dataset = \"gowalla\"  # Either gowalla, yelp, amazon, or ml-1m\n",
    "alpha = 0.6\n",
    "power = 0.7\n",
    "\n",
    "if verbose:\n",
    "    print(f\"Device: {device}\")\n",
    "dataset = dataset\n",
    "path_tr = f\"{current_directory}/dataset/{dataset}_train.npz\"\n",
    "path_ts = f\"{current_directory}/dataset/{dataset}_test.npz\"\n",
    "R_tr = csr2torch(sp.load_npz(path_tr)).to(device)\n",
    "R_ts = csr2torch(sp.load_npz(path_ts)).to(device)\n",
    "\n",
    "n_users = R_tr.shape[0]\n",
    "n_items = R_tr.shape[1]\n",
    "if verbose:\n",
    "    print(f\"number of users: {n_users}\")\n",
    "    print(f\"number of items: {n_items}\")\n",
    "\n",
    "n_inters = torch.nonzero(R_tr._values()).cpu().size(0) + torch.nonzero(\n",
    "    R_ts[0]._values()\n",
    ").cpu().size(0)\n",
    "\n",
    "if verbose:\n",
    "    print(f\"number of overall ratings: {n_inters}\")\n",
    "\n",
    "R_norm = normalize_sparse_adjacency_matrix(R_tr.to_dense(), alpha)\n",
    "R = R_tr.to_dense()\n",
    "P = R_norm.T @ R_norm\n",
    "P.data **= power\n",
    "P = P.to(device=device).float()\n",
    "R = R.to(device=device).float()\n",
    "\n",
    "# Our model\n",
    "results = R @ (P)\n",
    "\n",
    "# Now get the results\n",
    "gt_mat = R_ts.to_dense()\n",
    "results = results + (-99999) * R_tr.to_dense()\n",
    "gt_mat = gt_mat.cpu().detach().numpy()\n",
    "results = results.cpu().detach().numpy()\n",
    "\n",
    "print(f\"Recall@20: {recall_at_k(gt_mat, results, k=20):.4f} \\n\")\n",
    "print(f\"NDCG@20: {ndcg_at_k(gt_mat, results, k=20):.4f} \\n\")"
   ]
  }
 ],
 "metadata": {
  "language_info": {
   "name": "python"
  }
 },
 "nbformat": 4,
 "nbformat_minor": 2
}
